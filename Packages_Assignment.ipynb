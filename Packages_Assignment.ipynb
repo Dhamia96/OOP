{
  "nbformat": 4,
  "nbformat_minor": 0,
  "metadata": {
    "colab": {
      "name": "Packages_Assignment.ipynb",
      "provenance": [],
      "collapsed_sections": [],
      "authorship_tag": "ABX9TyPazQTjW7otu029eoJQRRLv",
      "include_colab_link": true
    },
    "kernelspec": {
      "name": "python3",
      "display_name": "Python 3"
    },
    "language_info": {
      "name": "python"
    }
  },
  "cells": [
    {
      "cell_type": "markdown",
      "metadata": {
        "id": "view-in-github",
        "colab_type": "text"
      },
      "source": [
        "<a href=\"https://colab.research.google.com/github/Dhamia96/OOP/blob/main/Packages_Assignment.ipynb\" target=\"_parent\"><img src=\"https://colab.research.google.com/assets/colab-badge.svg\" alt=\"Open In Colab\"/></a>"
      ]
    },
    {
      "cell_type": "code",
      "metadata": {
        "id": "03x4TDeDScva"
      },
      "source": [
        "class MyClass:\n",
        "  #Initilize the class \n",
        "  def __init__(self, my_list):\n",
        "    self.my_list=my_list\n",
        "\n",
        "\n",
        "  #Return the maximum value in the lsit\n",
        "  def return_max(self, my_list):\n",
        "    i= 0\n",
        "    max= my_list[0]\n",
        "    while i < len(my_list):\n",
        "      if(my_list[i+1] > max):\n",
        "        max= my_list[i+1]\n",
        "      i+=1\n",
        "      if(i == len(my_list)-1):\n",
        "        break\n",
        "    return f'The maximum number in the list {self.my_list} = {max}'\n",
        "\n",
        "  #Return the minimum value in the list\n",
        "  def return_min(self, my_list):\n",
        "      i= 0\n",
        "      min= my_list[0]\n",
        "      while i < len(my_list):\n",
        "        if(my_list[i+1] < min):\n",
        "          min= my_list[i+1]\n",
        "        i+=1\n",
        "        if(i == len(my_list)-1):\n",
        "          break\n",
        "      return f'The minimum number in the list {self.my_list} = {min}'\n",
        "\n",
        "  #Return the max value squared \n",
        "  def return_max_squared(self, my_list):\n",
        "    i= 0\n",
        "    max= my_list[0]\n",
        "    while i < len(my_list):\n",
        "      if(my_list[i+1] > max):\n",
        "        max= my_list[i+1]\n",
        "      i+=1\n",
        "      if(i == len(my_list)-1):\n",
        "        break\n",
        "    return f'The squared value of the  maximum number in the list {self.my_list} = {max*max}'\n",
        "\n",
        "  #Return the length of the list\n",
        "  def return_length(self, my_list):\n",
        "    return f'The length of the list {self.my_list} = {len(my_list)}'\n",
        "\n",
        "  #Return the sum of the positive numbers in the list\n",
        "  def return_positive_sum(self,my_list):\n",
        "    sum=0\n",
        "    for x in my_list:\n",
        "      if(x >= 0): \n",
        "        sum+=x\n",
        "    return f'The sim of all positive number in the list {self.my_list} = {sum}'\n",
        "\n",
        "  #Count the positive numbers in the list and return the result\n",
        "  def return_positive_count(self,my_list):\n",
        "    count=0\n",
        "    for x in my_list: \n",
        "      if(x >= 0): \n",
        "        count+=1\n",
        "    return f'The positives numbers in the list {self.my_list} = {count} '\n",
        "\n",
        "  #Return the average of a list \n",
        "  def return_average(self,my_list):\n",
        "    sum=0\n",
        "    for x in my_list:\n",
        "        sum+=x\n",
        "    avg= sum/len(my_list)\n",
        "    return f'The sum of all positive number in the list {self.my_list} = {avg}'\n",
        "\n",
        "  #Counts the odd numbers in the given list aand return the result\n",
        "  def return_odd_count(self,my_list):\n",
        "    count=0\n",
        "    for x in my_list:\n",
        "      if(x%2 != 0):\n",
        "        count+=1\n",
        "    return f'The odd numbers in the list {self.my_list} = {count}' "
      ],
      "execution_count": 167,
      "outputs": []
    },
    {
      "cell_type": "code",
      "metadata": {
        "id": "GMdafpdBmmwD"
      },
      "source": [
        "#creating object instance \n",
        "Mylist= MyClass([2,5,-1,7,-10])  "
      ],
      "execution_count": 168,
      "outputs": []
    },
    {
      "cell_type": "code",
      "metadata": {
        "colab": {
          "base_uri": "https://localhost:8080/",
          "height": 36
        },
        "id": "WIz7n5xHTOrm",
        "outputId": "0d10e20e-d65d-43d7-f037-2298c6e272ed"
      },
      "source": [
        "Mylist.return_max(my_list)"
      ],
      "execution_count": 169,
      "outputs": [
        {
          "output_type": "execute_result",
          "data": {
            "application/vnd.google.colaboratory.intrinsic+json": {
              "type": "string"
            },
            "text/plain": [
              "'The maximum number in the list [2, 5, -1, 7, -10] = 7'"
            ]
          },
          "metadata": {},
          "execution_count": 169
        }
      ]
    },
    {
      "cell_type": "code",
      "metadata": {
        "colab": {
          "base_uri": "https://localhost:8080/",
          "height": 36
        },
        "id": "UCt5W3UnV9rk",
        "outputId": "eb3c84f3-8df2-4594-b818-cef2c73f5e89"
      },
      "source": [
        "Mylist.return_min(my_list)"
      ],
      "execution_count": 170,
      "outputs": [
        {
          "output_type": "execute_result",
          "data": {
            "application/vnd.google.colaboratory.intrinsic+json": {
              "type": "string"
            },
            "text/plain": [
              "'The minimum number in the list [2, 5, -1, 7, -10] = -10'"
            ]
          },
          "metadata": {},
          "execution_count": 170
        }
      ]
    },
    {
      "cell_type": "code",
      "metadata": {
        "colab": {
          "base_uri": "https://localhost:8080/",
          "height": 36
        },
        "id": "7G1CPg4XdhoB",
        "outputId": "13b9a004-f66f-47a3-9df0-d1b286caac2d"
      },
      "source": [
        "Mylist.return_max_squared(my_list)"
      ],
      "execution_count": 171,
      "outputs": [
        {
          "output_type": "execute_result",
          "data": {
            "application/vnd.google.colaboratory.intrinsic+json": {
              "type": "string"
            },
            "text/plain": [
              "'The squared value of the  maximum number in the list [2, 5, -1, 7, -10] = 49'"
            ]
          },
          "metadata": {},
          "execution_count": 171
        }
      ]
    },
    {
      "cell_type": "code",
      "metadata": {
        "colab": {
          "base_uri": "https://localhost:8080/",
          "height": 36
        },
        "id": "8apw2C_jfgJU",
        "outputId": "fee7a78c-9a42-41ed-900c-c647bcd57e52"
      },
      "source": [
        "Mylist.return_length(my_list)"
      ],
      "execution_count": 172,
      "outputs": [
        {
          "output_type": "execute_result",
          "data": {
            "application/vnd.google.colaboratory.intrinsic+json": {
              "type": "string"
            },
            "text/plain": [
              "'The length of the list [2, 5, -1, 7, -10] = 5'"
            ]
          },
          "metadata": {},
          "execution_count": 172
        }
      ]
    },
    {
      "cell_type": "code",
      "metadata": {
        "colab": {
          "base_uri": "https://localhost:8080/",
          "height": 36
        },
        "id": "4gKov5vYgcBn",
        "outputId": "32e7d7a8-b29b-43d5-c023-bad810c62b15"
      },
      "source": [
        "Mylist.return_positive_sum(my_list)"
      ],
      "execution_count": 173,
      "outputs": [
        {
          "output_type": "execute_result",
          "data": {
            "application/vnd.google.colaboratory.intrinsic+json": {
              "type": "string"
            },
            "text/plain": [
              "'The sim of all positive number in the list [2, 5, -1, 7, -10] = 14'"
            ]
          },
          "metadata": {},
          "execution_count": 173
        }
      ]
    },
    {
      "cell_type": "code",
      "metadata": {
        "colab": {
          "base_uri": "https://localhost:8080/",
          "height": 36
        },
        "id": "EibXmyaIi5h6",
        "outputId": "87731511-0284-4263-c7aa-4190a64a7f3e"
      },
      "source": [
        "Mylist.return_positive_count(my_list)"
      ],
      "execution_count": 174,
      "outputs": [
        {
          "output_type": "execute_result",
          "data": {
            "application/vnd.google.colaboratory.intrinsic+json": {
              "type": "string"
            },
            "text/plain": [
              "'The positives numbers in the list [2, 5, -1, 7, -10] = 3 '"
            ]
          },
          "metadata": {},
          "execution_count": 174
        }
      ]
    },
    {
      "cell_type": "code",
      "metadata": {
        "colab": {
          "base_uri": "https://localhost:8080/",
          "height": 36
        },
        "id": "xdlECTCOkr-F",
        "outputId": "7a309a0f-ac82-4064-dad4-657f0ad4119e"
      },
      "source": [
        "Mylist.return_average(my_list)"
      ],
      "execution_count": 175,
      "outputs": [
        {
          "output_type": "execute_result",
          "data": {
            "application/vnd.google.colaboratory.intrinsic+json": {
              "type": "string"
            },
            "text/plain": [
              "'The sum of all positive number in the list [2, 5, -1, 7, -10] = 0.6'"
            ]
          },
          "metadata": {},
          "execution_count": 175
        }
      ]
    },
    {
      "cell_type": "code",
      "metadata": {
        "colab": {
          "base_uri": "https://localhost:8080/",
          "height": 36
        },
        "id": "2C0RNz9dmC5k",
        "outputId": "a992ced6-337c-466f-f0f0-adb0e84e72f8"
      },
      "source": [
        "Mylist.return_odd_count(my_list)"
      ],
      "execution_count": 176,
      "outputs": [
        {
          "output_type": "execute_result",
          "data": {
            "application/vnd.google.colaboratory.intrinsic+json": {
              "type": "string"
            },
            "text/plain": [
              "'The odd numbers in the list [2, 5, -1, 7, -10] = 3'"
            ]
          },
          "metadata": {},
          "execution_count": 176
        }
      ]
    }
  ]
}